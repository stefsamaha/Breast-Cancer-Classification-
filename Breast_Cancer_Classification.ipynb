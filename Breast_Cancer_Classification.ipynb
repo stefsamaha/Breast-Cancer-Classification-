{
 "cells": [
  {
   "cell_type": "markdown",
   "metadata": {},
   "source": [
    "# **Breast Cancer Classification with Logistic Regression, SVM, and Feed-Forward Neural Network**\n",
    "\n",
    "This notebook showcases the full workflow, from data loading and preprocessing to training, evaluating, and comparing three models: Logistic Regression, SVM, and a Feed-Forward Neural Network."
   ]
  },
  {
   "cell_type": "code",
   "execution_count": 1,
   "metadata": {},
   "outputs": [],
   "source": [
    "# Import necessary libraries\n",
    "import pandas as pd\n",
    "from sklearn.model_selection import train_test_split\n",
    "from sklearn.preprocessing import StandardScaler\n",
    "from sklearn.linear_model import LogisticRegression\n",
    "from sklearn.svm import SVC\n",
    "import torch\n",
    "import torch.nn as nn\n",
    "import torch.optim as optim\n",
    "import torch.nn.functional as F\n",
    "from sklearn.metrics import accuracy_score, precision_score, recall_score, f1_score\n",
    "import matplotlib.pyplot as plt"
   ]
  },
  {
   "cell_type": "markdown",
   "metadata": {},
   "source": [
    "Cell 2 Below: Data Loading and Preprocessing"
   ]
  },
  {
   "cell_type": "code",
   "execution_count": 4,
   "metadata": {},
   "outputs": [],
   "source": [
    "# Load and preprocess data\n",
    "def load_data(file_path):\n",
    "    \"\"\"\n",
    "    Loads data from a CSV file, encodes the target variable, and returns features and target.\n",
    "\n",
    "    Parameters:\n",
    "    - file_path (str): Path to the dataset CSV file.\n",
    "\n",
    "    Returns:\n",
    "    - X (DataFrame): Features without irrelevant columns like 'id'.\n",
    "    - y (Series): Binary target variable (0 = Benign, 1 = Malignant).\n",
    "    \"\"\"\n",
    "    # Load dataset\n",
    "    file_path = r'C:\\Users\\stef\\Documents\\Uni\\EECE\\EECE 490\\assignment 3\\Breast Cancer Classification\\data\\breast_cancer_data.csv'\n",
    "    df = pd.read_csv(file_path)\n",
    "    \n",
    "    # Encode target variable: 0 for Benign, 1 for Malignant\n",
    "    df[\"diagnosis\"] = df[\"diagnosis\"].map({\"B\": 0, \"M\": 1})\n",
    "    \n",
    "    # Drop the 'id' column as it is not a feature\n",
    "    X = df.drop(columns=[\"id\", \"diagnosis\"], errors=\"ignore\")\n",
    "    y = df[\"diagnosis\"]\n",
    "    \n",
    "    return X, y\n",
    "\n",
    "def preprocess_data(X, y, test_size=0.2):\n",
    "    \"\"\"\n",
    "    Splits the data into training and testing sets, then scales the features.\n",
    "\n",
    "    Parameters:\n",
    "    - X (DataFrame): Features.\n",
    "    - y (Series): Target variable.\n",
    "    - test_size (float): Proportion of the dataset to include in the test split.\n",
    "\n",
    "    Returns:\n",
    "    - X_train (ndarray): Scaled training features.\n",
    "    - X_test (ndarray): Scaled testing features.\n",
    "    - y_train (Series): Training target variable.\n",
    "    - y_test (Series): Testing target variable.\n",
    "    \"\"\"\n",
    "    # Split data\n",
    "    X_train, X_test, y_train, y_test = train_test_split(X, y, test_size=test_size, random_state=42)\n",
    "    \n",
    "    # Scale features\n",
    "    scaler = StandardScaler()\n",
    "    X_train = scaler.fit_transform(X_train)\n",
    "    X_test = scaler.transform(X_test)\n",
    "    \n",
    "    return X_train, X_test, y_train, y_test\n",
    "\n",
    "# Define file path and load data\n",
    "file_path = 'data/breast_cancer_data.csv'  # Update to the correct path of your dataset\n",
    "X, y = load_data(file_path)\n",
    "X_train, X_test, y_train, y_test = preprocess_data(X, y)\n"
   ]
  },
  {
   "cell_type": "markdown",
   "metadata": {},
   "source": [
    "Cell 3: Model Definitions"
   ]
  },
  {
   "cell_type": "code",
   "execution_count": 5,
   "metadata": {},
   "outputs": [],
   "source": [
    "# Logistic Regression\n",
    "def logistic_regression():\n",
    "    return LogisticRegression()\n",
    "\n",
    "# Support Vector Machine\n",
    "def svm_classifier():\n",
    "    return SVC()\n",
    "\n",
    "# Enhanced Feed-Forward Neural Network\n",
    "class NeuralNetwork(nn.Module):\n",
    "    def __init__(self, input_size):\n",
    "        super(NeuralNetwork, self).__init__()\n",
    "        self.layer1 = nn.Linear(input_size, 128)\n",
    "        self.bn1 = nn.BatchNorm1d(128)\n",
    "        self.layer2 = nn.Linear(128, 64)\n",
    "        self.bn2 = nn.BatchNorm1d(64)\n",
    "        self.layer3 = nn.Linear(64, 32)\n",
    "        self.bn3 = nn.BatchNorm1d(32)\n",
    "        self.output = nn.Linear(32, 1)\n",
    "        \n",
    "        self.dropout = nn.Dropout(0.3)  # Dropout rate of 30%\n",
    "\n",
    "    def forward(self, x):\n",
    "        x = F.relu(self.bn1(self.layer1(x)))\n",
    "        x = self.dropout(x)\n",
    "        x = F.relu(self.bn2(self.layer2(x)))\n",
    "        x = self.dropout(x)\n",
    "        x = F.relu(self.bn3(self.layer3(x)))\n",
    "        x = self.dropout(x)\n",
    "        x = torch.sigmoid(self.output(x))  # Output layer with sigmoid for binary classification\n",
    "        return x\n"
   ]
  },
  {
   "cell_type": "markdown",
   "metadata": {},
   "source": [
    "Cell 4: Model Evaluation and Visualization"
   ]
  },
  {
   "cell_type": "code",
   "execution_count": 6,
   "metadata": {},
   "outputs": [],
   "source": [
    "# Model evaluation function\n",
    "def evaluate_model(y_true, y_pred, model_name):\n",
    "    accuracy = accuracy_score(y_true, y_pred)\n",
    "    precision = precision_score(y_true, y_pred)\n",
    "    recall = recall_score(y_true, y_pred)\n",
    "    f1 = f1_score(y_true, y_pred)\n",
    "    \n",
    "    metrics = {\n",
    "        \"Model\": model_name,\n",
    "        \"Accuracy\": accuracy,\n",
    "        \"Precision\": precision,\n",
    "        \"Recall\": recall,\n",
    "        \"F1 Score\": f1\n",
    "    }\n",
    "    \n",
    "    print(f\"{model_name} - Accuracy: {accuracy:.2f}, Precision: {precision:.2f}, Recall: {recall:.2f}, F1 Score: {f1:.2f}\")\n",
    "    return metrics\n",
    "\n",
    "# Plotting function\n",
    "def plot_metrics_comparison(metrics_list):\n",
    "    models = [metrics[\"Model\"] for metrics in metrics_list]\n",
    "    accuracies = [metrics[\"Accuracy\"] for metrics in metrics_list]\n",
    "    precisions = [metrics[\"Precision\"] for metrics in metrics_list]\n",
    "    recalls = [metrics[\"Recall\"] for metrics in metrics_list]\n",
    "    f1_scores = [metrics[\"F1 Score\"] for metrics in metrics_list]\n",
    "    \n",
    "    fig, ax = plt.subplots(2, 2, figsize=(10, 8))\n",
    "    fig.suptitle('Model Performance Comparison')\n",
    "    \n",
    "    ax[0, 0].bar(models, accuracies, color='skyblue')\n",
    "    ax[0, 0].set_title('Accuracy')\n",
    "    ax[0, 0].set_ylim(0, 1)\n",
    "    \n",
    "    ax[0, 1].bar(models, precisions, color='salmon')\n",
    "    ax[0, 1].set_title('Precision')\n",
    "    ax[0, 1].set_ylim(0, 1)\n",
    "    \n",
    "    ax[1, 0].bar(models, recalls, color='lightgreen')\n",
    "    ax[1, 0].set_title('Recall')\n",
    "    ax[1, 0].set_ylim(0, 1)\n",
    "    \n",
    "    ax[1, 1].bar(models, f1_scores, color='orange')\n",
    "    ax[1, 1].set_title('F1 Score')\n",
    "    ax[1, 1].set_ylim(0, 1)\n",
    "    \n",
    "    plt.tight_layout(rect=[0, 0, 1, 0.96])\n",
    "    plt.show()\n"
   ]
  },
  {
   "cell_type": "markdown",
   "metadata": {},
   "source": [
    "Cell 5: Training and Evaluating Models"
   ]
  },
  {
   "cell_type": "code",
   "execution_count": 8,
   "metadata": {},
   "outputs": [
    {
     "name": "stdout",
     "output_type": "stream",
     "text": [
      "Logistic Regression - Accuracy: 0.97, Precision: 0.98, Recall: 0.95, F1 Score: 0.96\n",
      "SVM - Accuracy: 0.98, Precision: 1.00, Recall: 0.95, F1 Score: 0.98\n",
      "Neural Network - Accuracy: 0.96, Precision: 0.93, Recall: 0.95, F1 Score: 0.94\n"
     ]
    },
    {
     "data": {
      "image/png": "[encoded data removed]",
      "text/plain": [
       "<Figure size 1000x800 with 4 Axes>"
      ]
     },
     "metadata": {},
     "output_type": "display_data"
    }
   ],
   "source": [
    "# List to hold metrics for all models\n",
    "metrics_list = []\n",
    "\n",
    "# Logistic Regression Model\n",
    "log_model = logistic_regression()\n",
    "log_model.fit(X_train, y_train)\n",
    "y_pred_log = log_model.predict(X_test)\n",
    "metrics_list.append(evaluate_model(y_test, y_pred_log, \"Logistic Regression\"))\n",
    "\n",
    "# Support Vector Machine Model\n",
    "svm_model = svm_classifier()\n",
    "svm_model.fit(X_train, y_train)\n",
    "y_pred_svm = svm_model.predict(X_test)\n",
    "metrics_list.append(evaluate_model(y_test, y_pred_svm, \"SVM\"))\n",
    "\n",
    "# Feed-Forward Neural Network Model\n",
    "input_size = X_train.shape[1]\n",
    "nn_model = NeuralNetwork(input_size)\n",
    "criterion = nn.BCELoss()\n",
    "optimizer = optim.Adam(nn_model.parameters(), lr=0.001)\n",
    "\n",
    "# Training loop for the neural network\n",
    "for epoch in range(100):  # Adjust epochs as needed\n",
    "    nn_model.train()\n",
    "    optimizer.zero_grad()\n",
    "    outputs = nn_model(torch.tensor(X_train, dtype=torch.float32))\n",
    "    loss = criterion(outputs, torch.tensor(y_train.values, dtype=torch.float32).unsqueeze(1))\n",
    "    loss.backward()\n",
    "    optimizer.step()\n",
    "\n",
    "# Evaluate Neural Network\n",
    "nn_model.eval()\n",
    "with torch.no_grad():\n",
    "    outputs = nn_model(torch.tensor(X_test, dtype=torch.float32))\n",
    "    y_pred_nn = torch.round(outputs).squeeze().numpy()\n",
    "metrics_list.append(evaluate_model(y_test, y_pred_nn, \"Neural Network\"))\n",
    "\n",
    "# Plot the metrics comparison\n",
    "plot_metrics_comparison(metrics_list)\n"
   ]
  }
 ],
 "metadata": {
  "kernelspec": {
   "display_name": "Python 3",
   "language": "python",
   "name": "python3"
  },
  "language_info": {
   "codemirror_mode": {
    "name": "ipython",
    "version": 3
   },
   "file_extension": ".py",
   "mimetype": "text/x-python",
   "name": "python",
   "nbconvert_exporter": "python",
   "pygments_lexer": "ipython3",
   "version": "3.9.13"
  }
 },
 "nbformat": 4,
 "nbformat_minor": 2
}
